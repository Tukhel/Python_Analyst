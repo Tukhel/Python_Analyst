{
 "cells": [
  {
   "cell_type": "markdown",
   "id": "5a3f857e-3443-44d3-84d9-bc299db310c9",
   "metadata": {},
   "source": [
    "## Task 2"
   ]
  },
  {
   "cell_type": "markdown",
   "id": "afdaa0e8-9b3d-4154-a48c-94ff7d1c2ed9",
   "metadata": {},
   "source": [
    "На складе лежат разные фрукты в разном количестве.  \r\n",
    "Нужно написать функцию, которая на вход принимает любое количество названий фруктов и их количество, а возвращает общее количество фруктов на складе"
   ]
  },
  {
   "cell_type": "code",
   "execution_count": 2,
   "id": "ff67cdc8-5c75-4cb0-8ec1-f4a2e9f1e708",
   "metadata": {},
   "outputs": [],
   "source": [
    "def sum_fruits(*args):\n",
    "    return sum(args)"
   ]
  },
  {
   "cell_type": "code",
   "execution_count": 3,
   "id": "1aca3ebc-0493-49fe-83a8-cbd57801ad9a",
   "metadata": {},
   "outputs": [
    {
     "data": {
      "text/plain": [
       "105"
      ]
     },
     "execution_count": 3,
     "metadata": {},
     "output_type": "execute_result"
    }
   ],
   "source": [
    "apple = 30\n",
    "banana = 50\n",
    "pineapple = 25\n",
    "sum_fruits(apple, banana, pineapple)"
   ]
  },
  {
   "cell_type": "markdown",
   "id": "6d251841-198f-4dd2-8ddc-356eec0d8307",
   "metadata": {},
   "source": [
    "## Task 3"
   ]
  },
  {
   "cell_type": "markdown",
   "id": "b15bf13c-2007-408e-9e50-3ff0fa1715cb",
   "metadata": {},
   "source": [
    "Дан список с затратами на рекламу. Но в данных есть ошибки, некоторые затраты имеют отрицательную величину. Удалите такие значения из списка и посчитайте суммарные затраты  \n",
    "Используйте list comprehensions"
   ]
  },
  {
   "cell_type": "code",
   "execution_count": 5,
   "id": "7e60db53-8a91-4191-ad69-56b12e1585fb",
   "metadata": {},
   "outputs": [],
   "source": [
    "price_list = [100, 125, -90, 345, 655, -1, 0, 200]"
   ]
  },
  {
   "cell_type": "code",
   "execution_count": 20,
   "id": "a0a4d765-be4e-48f3-9e4f-562186ac1a31",
   "metadata": {},
   "outputs": [
    {
     "data": {
      "text/plain": [
       "1425"
      ]
     },
     "execution_count": 20,
     "metadata": {},
     "output_type": "execute_result"
    }
   ],
   "source": [
    "correct_price = [i if i > 0 else 0 for i in price_list]\n",
    "sum_costs = 0\n",
    "for i in correct_price:\n",
    "    sum_costs += i\n",
    "sum_costs"
   ]
  },
  {
   "cell_type": "markdown",
   "id": "316b74da-f6a7-4eef-945f-75e0734efce9",
   "metadata": {},
   "source": [
    "## Task 4"
   ]
  },
  {
   "cell_type": "markdown",
   "id": "a7245134-e933-4de0-88ef-44be72dc8703",
   "metadata": {},
   "source": [
    "Даны два списка.\r\n",
    "Дата покупки"
   ]
  },
  {
   "cell_type": "code",
   "execution_count": 5,
   "id": "a194d404-c81d-4962-b528-229e03627127",
   "metadata": {},
   "outputs": [],
   "source": [
    "date_list = ['2021-09-14', '2021-12-15', '2021-09-08', '2021-12-05', '2021-10-09', \n",
    "             '2021-09-30', '2021-12-22', '2021-11-29', '2021-12-24', '2021-11-26', \n",
    "             '2021-10-27', '2021-12-18', '2021-11-09', '2021-11-23', '2021-09-27', \n",
    "             '2021-10-02', '2021-12-27', '2021-09-20', '2021-12-13', '2021-11-01', \n",
    "             '2021-11-09', '2021-12-06', '2021-12-08', '2021-10-09', '2021-10-31', \n",
    "             '2021-09-30', '2021-11-09', '2021-12-13', '2021-10-26', '2021-12-09']"
   ]
  },
  {
   "cell_type": "markdown",
   "id": "e0ffd295-0013-4519-af8d-70b92dd185c0",
   "metadata": {},
   "source": [
    "Суммы покупок по датам"
   ]
  },
  {
   "cell_type": "code",
   "execution_count": 6,
   "id": "42f2d9ef-dd22-45bc-a909-f61009f41d55",
   "metadata": {},
   "outputs": [],
   "source": [
    "sum_purch = [1270, 8413, 9028, 3703, 5739, 4095, 295, 4944, 5723, 3701, 4471, 651, \n",
    "             7037, 4274, 6275, 4988, 6930, 2971, 6592, 2004, 2822, 519, 3406, 2732, \n",
    "             5015, 2008, 316, 6333, 5700, 2887]"
   ]
  },
  {
   "cell_type": "markdown",
   "id": "3aa5ec55-205c-4d5c-a37b-d09ff1048b5a",
   "metadata": {},
   "source": [
    "4.1 Найдите, какая выручка у компании в ноябре\\\n",
    "Используйте list comprehensionsпов."
   ]
  },
  {
   "cell_type": "code",
   "execution_count": 8,
   "id": "bbb4df14-3519-439c-8ba3-da4c3ff6dc23",
   "metadata": {},
   "outputs": [
    {
     "data": {
      "text/plain": [
       "25098"
      ]
     },
     "execution_count": 8,
     "metadata": {},
     "output_type": "execute_result"
    }
   ],
   "source": [
    "revenue = sum(sum_purch[i] for i in range(len(date_list)) if '-11-' in date_list[i])\n",
    "revenue"
   ]
  },
  {
   "cell_type": "markdown",
   "id": "d0a82a96-db98-4f52-8eab-8483d9282ac1",
   "metadata": {},
   "source": [
    "4.2 Найдите выручку компании в зависимости от месяца\\\n",
    "Для этого напишите функцию, которая на вход принимает списко с датами и список с выручкой, а на выходе словарь, где ключи - это месяцы, а значения - это выручка. Используйте аннотирование типов."
   ]
  },
  {
   "cell_type": "code",
   "execution_count": 11,
   "id": "6daf6111-09bb-4afb-a31e-edc79ed49e8e",
   "metadata": {},
   "outputs": [],
   "source": [
    "def rev_month(list1: str, list2: int) -> str:\n",
    "    my_dict = {list1[i]: list2[i] for i in range(len(list1))}\n",
    "    return my_dict"
   ]
  },
  {
   "cell_type": "code",
   "execution_count": 12,
   "id": "29dc99bf-366b-48e5-af67-4cc73e933030",
   "metadata": {},
   "outputs": [
    {
     "data": {
      "text/plain": [
       "{'2021-09-14': 1270,\n",
       " '2021-12-15': 8413,\n",
       " '2021-09-08': 9028,\n",
       " '2021-12-05': 3703,\n",
       " '2021-10-09': 2732,\n",
       " '2021-09-30': 2008,\n",
       " '2021-12-22': 295,\n",
       " '2021-11-29': 4944,\n",
       " '2021-12-24': 5723,\n",
       " '2021-11-26': 3701,\n",
       " '2021-10-27': 4471,\n",
       " '2021-12-18': 651,\n",
       " '2021-11-09': 316,\n",
       " '2021-11-23': 4274,\n",
       " '2021-09-27': 6275,\n",
       " '2021-10-02': 4988,\n",
       " '2021-12-27': 6930,\n",
       " '2021-09-20': 2971,\n",
       " '2021-12-13': 6333,\n",
       " '2021-11-01': 2004,\n",
       " '2021-12-06': 519,\n",
       " '2021-12-08': 3406,\n",
       " '2021-10-31': 5015,\n",
       " '2021-10-26': 5700,\n",
       " '2021-12-09': 2887}"
      ]
     },
     "execution_count": 12,
     "metadata": {},
     "output_type": "execute_result"
    }
   ],
   "source": [
    "rev_month(date_list, sum_purch)"
   ]
  }
 ],
 "metadata": {
  "kernelspec": {
   "display_name": "Python 3 (ipykernel)",
   "language": "python",
   "name": "python3"
  },
  "language_info": {
   "codemirror_mode": {
    "name": "ipython",
    "version": 3
   },
   "file_extension": ".py",
   "mimetype": "text/x-python",
   "name": "python",
   "nbconvert_exporter": "python",
   "pygments_lexer": "ipython3",
   "version": "3.11.4"
  }
 },
 "nbformat": 4,
 "nbformat_minor": 5
}
